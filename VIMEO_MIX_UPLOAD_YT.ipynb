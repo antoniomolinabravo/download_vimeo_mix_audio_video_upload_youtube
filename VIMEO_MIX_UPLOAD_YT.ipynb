{
  "nbformat": 4,
  "nbformat_minor": 0,
  "metadata": {
    "colab": {
      "provenance": []
    },
    "kernelspec": {
      "name": "python3",
      "display_name": "Python 3"
    },
    "language_info": {
      "name": "python"
    }
  },
  "cells": [
    {
      "cell_type": "markdown",
      "source": [
        "#0. OBTENER MASTER.JSON\n",
        "\n",
        "Se debe abrir SCRIPT de video VIMEO y obtener enlace master.json completo, si posee .mp4 no es necesario este proceso"
      ],
      "metadata": {
        "id": "Ty8sL7wRr8wf"
      }
    },
    {
      "cell_type": "markdown",
      "source": [
        "#1. DESCARGA DE ARCHIVOS\n",
        "\n",
        "Se ingresa el parametro \n",
        "MASTER JSON, procede a descargar el audio y video en su mejor calidad (solo unos 2 minutos)"
      ],
      "metadata": {
        "id": "3Vqg-wcqLeCj"
      }
    },
    {
      "cell_type": "code",
      "execution_count": null,
      "metadata": {
        "cellView": "form",
        "id": "6HhPTnDXKrtv"
      },
      "outputs": [],
      "source": [
        "#@title\n",
        "#!/bin/env python3\n",
        "\n",
        "#import argparse\n",
        "import subprocess\n",
        "import requests\n",
        "\n",
        "#    master_json_url = \"https://91vod-adaptive.akamaized.net\" \\\n",
        "#    \"/exp=1668939686\" \\\n",
        "#    \"~acl=%2F842360cb-7711-4e48-9bd5-144e4686a2e2%2F%2A\" \\\n",
        "#    \"~hmac=a982f9ed2cc1e2fc7c61201f9997e0262917b13a89494c4169e4b3848d148f59/842360cb-7711-4e48-9bd5-144e4686a2e2\" \\\n",
        "#    \"/sep\" \\\n",
        "#    \"/video/e524c67d,336fea7d,5e87cb6d,306933cc,d42a911f\" \\\n",
        "#    \"/audio/ebb79ef9,7c03de6a,cad3266d\" \\\n",
        "#    \"/master.json?query_string_ranges=1&base64_init=1\" \\\n",
        "\n",
        "#master_json_url = \"https://91vod-adaptive.akamaized.net/exp=1668995241~acl=%2F842360cb-7711-4e48-9bd5-144e4686a2e2%2F%2A~hmac=9d08db3017c9c54bb1732988a82f58f114024eb14419590f5108bfe05e7d36a6/842360cb-7711-4e48-9bd5-144e4686a2e2/sep/video/e524c67d,336fea7d,5e87cb6d,306933cc,d42a911f/audio/ebb79ef9,7c03de6a,cad3266d/master.json?query_string_ranges=1&base64_init=1\"\n",
        "#output_file = \"/content/drive/MyDrive/DINTA/Clase21/result.mp4\"  # \"./result.mp4\"\n",
        "\n",
        "\n",
        "#@title Example form fields\n",
        "#@markdown Forms support many types of fields.\n",
        "master_json_url = \"https://91vod-adaptive.akamaized.net/exp=1668995241~acl=%2F842360cb-7711-4e48-9bd5-144e4686a2e2%2F%2A~hmac=9d08db3017c9c54bb1732988a82f58f114024eb14419590f5108bfe05e7d36a6/842360cb-7711-4e48-9bd5-144e4686a2e2/sep/video/e524c67d,336fea7d,5e87cb6d,306933cc,d42a911f/audio/ebb79ef9,7c03de6a,cad3266d/master.json?query_string_ranges=1&base64_init=1\" #@param {type: \"string\"}\n",
        "#@markdown ---\n",
        "\n",
        "\n",
        "\n",
        "#if len(sys.argv) > 1:\n",
        "#     master_json_url = sys.argv[1]\n",
        "#     output_file = sys.argv[2]\n",
        "#else:\n",
        "#    print('master.json must be passed as argument', file=sys.stderr)\n",
        "#    exit(1)\n",
        "\n",
        "# eliminanos de /SEP/ en adelante y agregamos /PARCEL/\n",
        "base_url = master_json_url[:master_json_url.rfind('/sep/')]\n",
        "#base_url = \"https://117vod-adaptive.akamaized.net/exp=1668959455~acl=%2Fa78da094-44ed-4dc3-980a-19095f3b9acc%2F%2A~hmac=abf8ebfffc8c80493c37fd6cef039d13fd7371e53e72db5ba133abe20ba619f2/a78da094-44ed-4dc3-980a-19095f3b9acc/\"\n",
        "base_url = base_url + \"/parcel/\"\n",
        "\n",
        "# obtenemos el MASTER.JSON\n",
        "resp = requests.get(master_json_url)\n",
        "content = resp.json()\n",
        "\n",
        "# obtenemos la calidad mas alta de video\n",
        "heights = [(i, d['height']) for (i, d) in enumerate(content['video'])]\n",
        "idx, _ = max(heights, key=lambda h: h[1])\n",
        "video = content['video'][idx]\n",
        "video_base_url = base_url + video['base_url']\n",
        "video_file =  video['id'] + '.mp4'\n",
        "video_url = video_base_url + video_file\n",
        "print('VIDEO URL:', video_url)\n",
        "\n",
        "# Audio download here\n",
        "bitrate = [(i, d['bitrate']) for (i, d) in enumerate(content['audio'])]\n",
        "\n",
        "print('Bitrate', bitrate)\n",
        "\n",
        "idx, _ = max(bitrate, key=lambda x: x[1])\n",
        "audio = content['audio'][idx]\n",
        "audio_base_url = base_url + audio['base_url']\n",
        "audio_file = audio['id'] + '.mp4'\n",
        "audio_url = video_base_url + audio_file\n",
        "print('AUDIO URL:', audio_url)\n",
        "\n",
        "print(\"Downloading Files ...\")\n",
        "with open(\"files.txt\",\"w\") as file:\n",
        "    file.write(video_file+\"\\n\")\n",
        "    file.write(audio_file+\"\\n\")\n",
        "\n",
        "with open(\"urls.txt\",\"w\") as file:\n",
        "    file.write(video_url+\"\\n\")\n",
        "    file.write(audio_url+\"\\n\")\n",
        "\n",
        "%time !wget -i urls.txt\n",
        "print(\"Download Files!!!\")\n",
        "\n",
        "print( audio_file )\n",
        "print( video_file )"
      ]
    },
    {
      "cell_type": "markdown",
      "source": [
        "#2. MONTAR GDRIVE\n",
        "\n",
        "Se monta google Drive, para que el archivo resultante, quede disponible aun despues de la sesion Colab"
      ],
      "metadata": {
        "id": "pZ10JnSdP7ty"
      }
    },
    {
      "cell_type": "code",
      "source": [
        "#@title\n",
        "from google.colab import drive\n",
        "drive.mount('/content/drive')"
      ],
      "metadata": {
        "cellView": "form",
        "id": "3nNW_D7YP7Lc"
      },
      "execution_count": null,
      "outputs": []
    },
    {
      "cell_type": "markdown",
      "source": [
        "#3. MIX AUDIO/VIDEO EN MP4\n",
        "\n",
        "Se ejecuta subproceso para unir ambos archivos, puede tardar horas\n",
        "el resultado lo dejara en el DRIVE (1 hora por Giga)"
      ],
      "metadata": {
        "id": "_cubyfCnLlmL"
      }
    },
    {
      "cell_type": "code",
      "source": [
        "#@title Example form fields\n",
        "#@markdown Forms support many types of fields.\n",
        "output_file = \"/content/drive/MyDrive/DINTA/Class/result.mp4\"  #@param {type: \"string\"}\n",
        "#@markdown ---\n",
        "\n",
        "\n",
        "#@title\n",
        "# combinamos el audio y video en result.mp4\n",
        "print('Combining video and audio...')\n",
        "cmd = 'ffmpeg -y -stats -i '\n",
        "cmd += audio_file\n",
        "cmd += ' -i '\n",
        "cmd += video_file\n",
        "cmd += ' ' + output_file\n",
        "%time subprocess.call(cmd, shell=True)\n",
        "print('Mixing Done!')\n",
        "\n",
        "# Borrar los archivos \n",
        "#!rm -f `cat files.txt`\n",
        "print(\"Temporary files removed!\")\n",
        "\n",
        "print(\"Done!\")"
      ],
      "metadata": {
        "cellView": "form",
        "id": "gPF_hd1DPiEc"
      },
      "execution_count": null,
      "outputs": []
    },
    {
      "cell_type": "markdown",
      "source": [
        "#4. AUTH GOOGLE\n",
        "\n",
        "1. Se otorga permiso para acceder a Youtube y poder subir archivos, se requiere haber subido el archivo client_secret.json\n",
        "1. Se debe abrir link, aceptar condiciones, copiar codigo y pegar en consola\n"
      ],
      "metadata": {
        "id": "A2C1q60GLp98"
      }
    },
    {
      "cell_type": "code",
      "source": [
        "#!/usr/bin/python\n",
        "\n",
        "#en console.cloud.google.com\n",
        "# habilitar Credenciales Pantalla inicio\n",
        "# Habilitar OAuth 2.0 modo Desktop\n",
        "# descargar secret_client.json\n",
        "# Habilitar la API especifica\n",
        "#https://console.developers.google.com/apis/api/youtube.googleapis.com/overview?project=655932566158\n",
        "\n",
        "#desde la APP cliente\n",
        "# usando el client_secret.json, SCPE, AP y API version\n",
        "# entregara LINK para habilitar permiso\n",
        "# entregara un codigo para pegar en el cliente\n",
        "\n",
        "\n",
        "import httplib2\n",
        "import os\n",
        "import random\n",
        "import time\n",
        "\n",
        "import google.oauth2.credentials\n",
        "import google_auth_oauthlib.flow\n",
        "from googleapiclient.discovery import build\n",
        "from googleapiclient.errors import HttpError\n",
        "from googleapiclient.http import MediaFileUpload\n",
        "from google_auth_oauthlib.flow import InstalledAppFlow\n",
        "\n",
        "\n",
        "#@title Example form fields\n",
        "#@markdown Forms support many types of fields.\n",
        "CLIENT_SECRETS_FILE = \"/content/drive/MyDrive/UTILS/VIMEO_MIX_UPLOAD_YT/client_secret.json\" #@param {type: \"string\"}\n",
        "#@markdown ---\n",
        "\n",
        "\n",
        "SCOPES = ['https://www.googleapis.com/auth/youtube.upload']\n",
        "API_SERVICE_NAME = 'youtube'\n",
        "API_VERSION = 'v3'\n",
        "\n",
        "# Authorize the request and store authorization credentials.\n",
        "def get_authenticated_service():\n",
        "  flow = InstalledAppFlow.from_client_secrets_file(CLIENT_SECRETS_FILE, SCOPES)\n",
        "  credentials = flow.run_console()\n",
        "  return build(API_SERVICE_NAME, API_VERSION, credentials = credentials)\n",
        "\n",
        "youtube = get_authenticated_service()\n",
        "\n",
        "print('YT KEY:')\n",
        "print(youtube)"
      ],
      "metadata": {
        "cellView": "form",
        "id": "q22PUWP1Q5hL"
      },
      "execution_count": null,
      "outputs": []
    },
    {
      "cell_type": "markdown",
      "source": [
        "#5. SUBIR A YOUTUBE\n",
        "\n",
        "Realiza proceso de carga del archivo mp4 resultante, almacenado en google Drive\n",
        "(solo unos 30 segundos)"
      ],
      "metadata": {
        "id": "EuG8Oah6Luw4"
      }
    },
    {
      "cell_type": "code",
      "source": [
        "#@title Example form fields\n",
        "#@markdown Forms support many types of fields.\n",
        "TITULO_VIDEO = \"Video de Prueba\" #@param {type: \"string\"}\n",
        "#@markdown ---\n",
        "\n",
        "\n",
        "# previamente definido\n",
        "MEDIA_FILE_PATH = output_file\n",
        "\n",
        "httplib2.RETRIES = 1\n",
        "MAX_RETRIES = 10\n",
        "RETRIABLE_EXCEPTIONS = (httplib2.HttpLib2Error, IOError)\n",
        "RETRIABLE_STATUS_CODES = [500, 502, 503, 504]\n",
        "VALID_PRIVACY_STATUSES = ('public', 'private', 'unlisted')\n",
        "\n",
        "def initialize_upload(youtube, title_video):\n",
        "\n",
        "  options_title = title_video\n",
        "  options_description ='Video description'\n",
        "  options_category ='22'\n",
        "  options_privacyStatus ='unlisted'\n",
        "\n",
        "  body=dict(\n",
        "    snippet=dict(\n",
        "      title=options_title,\n",
        "      description=options_description,\n",
        "      categoryId=options_category\n",
        "    ),\n",
        "    status=dict(\n",
        "      privacyStatus=options_privacyStatus\n",
        "    )\n",
        "  )\n",
        "\n",
        "  insert_request = youtube.videos().insert(\n",
        "    part=','.join(body.keys()),\n",
        "    body=body,\n",
        "    media_body=MediaFileUpload(MEDIA_FILE_PATH, chunksize=-1, resumable=True)\n",
        "  )\n",
        "\n",
        "  resumable_upload(insert_request)\n",
        "\n",
        "def resumable_upload(request):\n",
        "  response = None\n",
        "  error = None\n",
        "  retry = 0\n",
        "  while response is None:\n",
        "    try:\n",
        "      print ('Uploading file...')\n",
        "      status, response = request.next_chunk()\n",
        "      if response is not None:\n",
        "        if 'id' in response:\n",
        "          print ('Video id \"%s\" was successfully uploaded.' % response['id'])\n",
        "        else:\n",
        "          exit('The upload failed with an unexpected response: %s' % response)\n",
        "    except HttpError as e:\n",
        "      if e.resp.status in RETRIABLE_STATUS_CODES:\n",
        "        error = 'A retriable HTTP error %d occurred:\\n%s' % (e.resp.status, e.content)\n",
        "      else:\n",
        "        raise\n",
        "    except RETRIABLE_EXCEPTIONS as e:\n",
        "      error = 'A retriable error occurred: %s' % e\n",
        "\n",
        "    if error is not None:\n",
        "      print (error)\n",
        "      retry += 1\n",
        "      if retry > MAX_RETRIES:\n",
        "        exit('No longer attempting to retry.')\n",
        "\n",
        "      max_sleep = 2 ** retry\n",
        "      sleep_seconds = random.random() * max_sleep\n",
        "      print ('Sleeping %f seconds and then retrying...' % sleep_seconds)\n",
        "      time.sleep(sleep_seconds)\n",
        "\n",
        "def uploadYT():\n",
        "# paso previamente realizado\n",
        "#  youtube = get_authenticated_service()\n",
        "\n",
        "  try:\n",
        "    initialize_upload(youtube, TITULO_VIDEO)\n",
        "  except HttpError as e:\n",
        "    print ('An HTTP error %d occurred:\\n%s' % e.resp.status, e.content)\n",
        "\n",
        "uploadYT()"
      ],
      "metadata": {
        "cellView": "form",
        "id": "4y58R4fIUKGA"
      },
      "execution_count": null,
      "outputs": []
    },
    {
      "cell_type": "markdown",
      "source": [
        "#6. PROPIEDADES DEL VIDEO EN YOUTUBE\n",
        "\n",
        "Mientras Youtube *Procesa el video*, se pueden configurar caracteristicas tales como la Descripcion, la Lista, etc. se deben realizar directamente en Youtube Studio"
      ],
      "metadata": {
        "id": "kvhlst2tsa_x"
      }
    }
  ]
}